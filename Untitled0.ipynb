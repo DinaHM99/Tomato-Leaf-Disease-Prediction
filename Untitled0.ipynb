{
  "nbformat": 4,
  "nbformat_minor": 0,
  "metadata": {
    "colab": {
      "name": "Untitled0.ipynb",
      "provenance": [],
      "authorship_tag": "ABX9TyPVvyTAKCjPGd/plhuHEYKe",
      "include_colab_link": true
    },
    "kernelspec": {
      "name": "python3",
      "display_name": "Python 3"
    },
    "language_info": {
      "name": "python"
    }
  },
  "cells": [
    {
      "cell_type": "markdown",
      "metadata": {
        "id": "view-in-github",
        "colab_type": "text"
      },
      "source": [
        "<a href=\"https://colab.research.google.com/github/DinaHM99/Tomato-Leaf-Disease-Prediction/blob/main/Untitled0.ipynb\" target=\"_parent\"><img src=\"https://colab.research.google.com/assets/colab-badge.svg\" alt=\"Open In Colab\"/></a>"
      ]
    },
    {
      "cell_type": "code",
      "execution_count": 3,
      "metadata": {
        "id": "3GT5aS6_2vbR",
        "colab": {
          "base_uri": "https://localhost:8080/"
        },
        "outputId": "93c8d4ac-a755-4381-ec2e-32f603e3554a"
      },
      "outputs": [
        {
          "output_type": "stream",
          "name": "stdout",
          "text": [
            "My name is Dimaji Himansala\n",
            "I'm a Data Science undergraduate at SLIIT\n",
            "I'm going to train a deep learning model using image classification\n",
            "Let's detect different types of plant diseases with respect to tomato leaves. \n"
          ]
        }
      ],
      "source": [
        "print(\"My name is Dimaji Himansala\")\n",
        "print(\"I'm a Data Science undergraduate at SLIIT\")\n",
        "print(\"I'm going to train a deep learning model using image classification\")\n",
        "print(\"Let's detect different types of plant diseases with respect to tomato leaves. \")"
      ]
    }
  ]
}